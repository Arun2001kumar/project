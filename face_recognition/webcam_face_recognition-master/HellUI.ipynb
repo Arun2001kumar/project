{
 "cells": [
  {
   "cell_type": "code",
   "execution_count": 1,
   "id": "e44b8ee1",
   "metadata": {},
   "outputs": [],
   "source": [
    "import subprocess\n",
    "import tkinter as tk\n",
    "import os\n",
    "from tkinter import * \n",
    "from PIL import Image, ImageTk"
   ]
  },
  {
   "cell_type": "code",
   "execution_count": 2,
   "id": "48bcee17",
   "metadata": {},
   "outputs": [],
   "source": [
    "def run_ipynb():\n",
    "    subprocess.Popen([\"jupyter\", \"nbconvert\", \"--to\", \"notebook\", \"--execute\", \"Custom Object detection live video.ipynb\"])\n",
    "def run_image():\n",
    "    subprocess.Popen([\"jupyter\", \"nbconvert\", \"--to\", \"notebook\", \"--execute\", \"Image.ipynb\"])"
   ]
  },
  {
   "cell_type": "code",
   "execution_count": 1,
   "id": "2b5eb3dc",
   "metadata": {},
   "outputs": [
    {
     "ename": "NameError",
     "evalue": "name 'tk' is not defined",
     "output_type": "error",
     "traceback": [
      "\u001b[1;31m---------------------------------------------------------------------------\u001b[0m",
      "\u001b[1;31mNameError\u001b[0m                                 Traceback (most recent call last)",
      "\u001b[1;32m~\\AppData\\Local\\Temp\\ipykernel_15004\\501286475.py\u001b[0m in \u001b[0;36m<module>\u001b[1;34m\u001b[0m\n\u001b[1;32m----> 1\u001b[1;33m \u001b[0mroot\u001b[0m \u001b[1;33m=\u001b[0m \u001b[0mtk\u001b[0m\u001b[1;33m.\u001b[0m\u001b[0mTk\u001b[0m\u001b[1;33m(\u001b[0m\u001b[1;33m)\u001b[0m\u001b[1;33m\u001b[0m\u001b[1;33m\u001b[0m\u001b[0m\n\u001b[0m\u001b[0;32m      2\u001b[0m \u001b[0mroot\u001b[0m\u001b[1;33m.\u001b[0m\u001b[0mtitle\u001b[0m\u001b[1;33m(\u001b[0m\u001b[1;34m\"Helmet Detector\"\u001b[0m\u001b[1;33m)\u001b[0m\u001b[1;33m\u001b[0m\u001b[1;33m\u001b[0m\u001b[0m\n\u001b[0;32m      3\u001b[0m \u001b[0mroot\u001b[0m\u001b[1;33m.\u001b[0m\u001b[0mconfigure\u001b[0m\u001b[1;33m(\u001b[0m\u001b[0mbg\u001b[0m\u001b[1;33m=\u001b[0m\u001b[1;34m'black'\u001b[0m\u001b[1;33m)\u001b[0m\u001b[1;33m\u001b[0m\u001b[1;33m\u001b[0m\u001b[0m\n\u001b[0;32m      4\u001b[0m \u001b[0mlab\u001b[0m \u001b[1;33m=\u001b[0m \u001b[0mLabel\u001b[0m\u001b[1;33m(\u001b[0m\u001b[0mroot\u001b[0m\u001b[1;33m,\u001b[0m \u001b[0mtext\u001b[0m\u001b[1;33m=\u001b[0m\u001b[1;34m\"HELMET DETECTION SYSTEM\"\u001b[0m\u001b[1;33m,\u001b[0m \u001b[0mfont\u001b[0m\u001b[1;33m=\u001b[0m\u001b[1;33m(\u001b[0m\u001b[1;34m\"Arial\"\u001b[0m\u001b[1;33m,\u001b[0m \u001b[1;36m15\u001b[0m\u001b[1;33m)\u001b[0m\u001b[1;33m,\u001b[0m \u001b[0mfg\u001b[0m\u001b[1;33m=\u001b[0m\u001b[1;34m\"white\"\u001b[0m\u001b[1;33m,\u001b[0m \u001b[0mbg\u001b[0m\u001b[1;33m=\u001b[0m\u001b[1;34m\"black\"\u001b[0m\u001b[1;33m)\u001b[0m\u001b[1;33m\u001b[0m\u001b[1;33m\u001b[0m\u001b[0m\n\u001b[0;32m      5\u001b[0m \u001b[0mbutton1\u001b[0m \u001b[1;33m=\u001b[0m \u001b[0mtk\u001b[0m\u001b[1;33m.\u001b[0m\u001b[0mButton\u001b[0m\u001b[1;33m(\u001b[0m\u001b[0mroot\u001b[0m\u001b[1;33m,\u001b[0m \u001b[0mtext\u001b[0m\u001b[1;33m=\u001b[0m\u001b[1;34m\"Run Real Time System\"\u001b[0m\u001b[1;33m,\u001b[0m \u001b[0mcommand\u001b[0m\u001b[1;33m=\u001b[0m\u001b[0mrun_ipynb\u001b[0m\u001b[1;33m,\u001b[0m \u001b[0mfg\u001b[0m\u001b[1;33m=\u001b[0m\u001b[1;34m\"white\"\u001b[0m\u001b[1;33m,\u001b[0m \u001b[0mbg\u001b[0m\u001b[1;33m=\u001b[0m\u001b[1;34m\"black\"\u001b[0m\u001b[1;33m,\u001b[0m \u001b[0mfont\u001b[0m\u001b[1;33m=\u001b[0m\u001b[1;33m(\u001b[0m\u001b[1;34m\"Arial\"\u001b[0m\u001b[1;33m,\u001b[0m \u001b[1;36m15\u001b[0m\u001b[1;33m)\u001b[0m\u001b[1;33m)\u001b[0m\u001b[1;33m\u001b[0m\u001b[1;33m\u001b[0m\u001b[0m\n",
      "\u001b[1;31mNameError\u001b[0m: name 'tk' is not defined"
     ]
    }
   ],
   "source": [
    "root = tk.Tk()  \n",
    "root.title(\"Helmet Detector\")\n",
    "root.configure(bg='black')\n",
    "lab = Label(root, text=\"HELMET DETECTION SYSTEM\", font=(\"Arial\", 15), fg=\"white\", bg=\"black\")\n",
    "button1 = tk.Button(root, text=\"Run Real Time System\", command=run_ipynb, fg=\"white\", bg=\"black\", font=(\"Arial\", 15))\n",
    "button2 = tk.Button(root, text=\"Run Image Detection System\", command=run_image, fg=\"white\", bg=\"black\", font=(\"Arial\", 15))\n",
    "# Read the Image\n",
    "image = Image.open(\"hell.png\")\n",
    " \n",
    "# Resize the image using resize() method\n",
    "resize_image = image.resize((250, 250))\n",
    " \n",
    "img = ImageTk.PhotoImage(resize_image)\n",
    " \n",
    "# create label and add resize image\n",
    "label1 = Label(image=img)\n",
    "label1.image = img\n",
    "lab2 = Label(root, text=\"        \", bg=\"black\")\n",
    "lab.pack()\n",
    "label1.pack()\n",
    "lab2.pack()\n",
    "button1.pack()\n",
    "lab2.pack()\n",
    "button2.pack()"
   ]
  },
  {
   "cell_type": "code",
   "execution_count": null,
   "id": "afb042ed",
   "metadata": {},
   "outputs": [],
   "source": [
    "root.mainloop()"
   ]
  },
  {
   "cell_type": "code",
   "execution_count": null,
   "id": "c818fef1",
   "metadata": {},
   "outputs": [],
   "source": []
  },
  {
   "cell_type": "code",
   "execution_count": null,
   "id": "1c163e15",
   "metadata": {},
   "outputs": [],
   "source": []
  }
 ],
 "metadata": {
  "kernelspec": {
   "display_name": "Python 3 (ipykernel)",
   "language": "python",
   "name": "python3"
  },
  "language_info": {
   "codemirror_mode": {
    "name": "ipython",
    "version": 3
   },
   "file_extension": ".py",
   "mimetype": "text/x-python",
   "name": "python",
   "nbconvert_exporter": "python",
   "pygments_lexer": "ipython3",
   "version": "3.7.8"
  }
 },
 "nbformat": 4,
 "nbformat_minor": 5
}
